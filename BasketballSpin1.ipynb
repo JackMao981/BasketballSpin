{
 "cells": [
  {
   "cell_type": "markdown",
   "metadata": {},
   "source": [
    "# How would Height of the basketball player affect the force it takes to make a free throw?"
   ]
  },
  {
   "cell_type": "code",
   "execution_count": 1,
   "metadata": {},
   "outputs": [],
   "source": [
    "# Configure Jupyter so figures appear in the notebook\n",
    "%matplotlib inline\n",
    "\n",
    "# Configure Jupyter to display the assigned value after an assignment\n",
    "%config InteractiveShell.ast_node_interactivity='last_expr_or_assign'\n",
    "\n",
    "# import functions from the modsim.py module\n",
    "from modsim import *"
   ]
  },
  {
   "cell_type": "markdown",
   "metadata": {},
   "source": [
    "Fm = S (w × v)"
   ]
  },
  {
   "cell_type": "code",
   "execution_count": 2,
   "metadata": {},
   "outputs": [
    {
     "data": {
      "text/html": [
       "radian"
      ],
      "text/latex": [
       "$radian$"
      ],
      "text/plain": [
       "<Unit('radian')>"
      ]
     },
     "execution_count": 2,
     "metadata": {},
     "output_type": "execute_result"
    }
   ],
   "source": [
    "m = UNITS.meter\n",
    "s = UNITS.second\n",
    "kg = UNITS.kilogram\n",
    "degree = UNITS.degree\n",
    "rad = UNITS.radian"
   ]
  },
  {
   "cell_type": "code",
   "execution_count": 3,
   "metadata": {},
   "outputs": [
    {
     "data": {
      "text/html": [
       "<div>\n",
       "<style scoped>\n",
       "    .dataframe tbody tr th:only-of-type {\n",
       "        vertical-align: middle;\n",
       "    }\n",
       "\n",
       "    .dataframe tbody tr th {\n",
       "        vertical-align: top;\n",
       "    }\n",
       "\n",
       "    .dataframe thead th {\n",
       "        text-align: right;\n",
       "    }\n",
       "</style>\n",
       "<table border=\"1\" class=\"dataframe\">\n",
       "  <thead>\n",
       "    <tr style=\"text-align: right;\">\n",
       "      <th></th>\n",
       "      <th>values</th>\n",
       "    </tr>\n",
       "  </thead>\n",
       "  <tbody>\n",
       "    <tr>\n",
       "      <th>x</th>\n",
       "      <td>0 meter</td>\n",
       "    </tr>\n",
       "    <tr>\n",
       "      <th>y</th>\n",
       "      <td>0 meter</td>\n",
       "    </tr>\n",
       "    <tr>\n",
       "      <th>omega</th>\n",
       "      <td>18.84955592153876 radian / second ** 2</td>\n",
       "    </tr>\n",
       "    <tr>\n",
       "      <th>rho</th>\n",
       "      <td>1.2 kilogram / meter ** 3</td>\n",
       "    </tr>\n",
       "    <tr>\n",
       "      <th>C_d</th>\n",
       "      <td>0.54</td>\n",
       "    </tr>\n",
       "    <tr>\n",
       "      <th>x_dist</th>\n",
       "      <td>4.9 meter</td>\n",
       "    </tr>\n",
       "    <tr>\n",
       "      <th>y_dist</th>\n",
       "      <td>3.05 meter</td>\n",
       "    </tr>\n",
       "    <tr>\n",
       "      <th>v</th>\n",
       "      <td>0.0 meter / second</td>\n",
       "    </tr>\n",
       "    <tr>\n",
       "      <th>S</th>\n",
       "      <td>0.47</td>\n",
       "    </tr>\n",
       "    <tr>\n",
       "      <th>g</th>\n",
       "      <td>9.8 meter / second ** 2</td>\n",
       "    </tr>\n",
       "    <tr>\n",
       "      <th>angle</th>\n",
       "      <td>52 degree</td>\n",
       "    </tr>\n",
       "    <tr>\n",
       "      <th>mass</th>\n",
       "      <td>0.625 kilogram</td>\n",
       "    </tr>\n",
       "    <tr>\n",
       "      <th>diameter</th>\n",
       "      <td>0.23 meter</td>\n",
       "    </tr>\n",
       "    <tr>\n",
       "      <th>radius</th>\n",
       "      <td>0.115 meter</td>\n",
       "    </tr>\n",
       "    <tr>\n",
       "      <th>t_end</th>\n",
       "      <td>10 second</td>\n",
       "    </tr>\n",
       "  </tbody>\n",
       "</table>\n",
       "</div>"
      ],
      "text/plain": [
       "x                                          0 meter\n",
       "y                                          0 meter\n",
       "omega       18.84955592153876 radian / second ** 2\n",
       "rho                      1.2 kilogram / meter ** 3\n",
       "C_d                                           0.54\n",
       "x_dist                                   4.9 meter\n",
       "y_dist                                  3.05 meter\n",
       "v                               0.0 meter / second\n",
       "S                                             0.47\n",
       "g                          9.8 meter / second ** 2\n",
       "angle                                    52 degree\n",
       "mass                                0.625 kilogram\n",
       "diameter                                0.23 meter\n",
       "radius                                 0.115 meter\n",
       "t_end                                    10 second\n",
       "dtype: object"
      ]
     },
     "execution_count": 3,
     "metadata": {},
     "output_type": "execute_result"
    }
   ],
   "source": [
    "\n",
    "params = Params(x = 0 * m,                   # x coordinate of the basketball\n",
    "                y = 0 * m,                   # y coordinate of the basketball\n",
    "                omega = 6 * np.pi * rad / s ** 2,    # angular velocity\n",
    "                rho = 1.2 * kg / m ** 3,     # mass density of the fluid\n",
    "                C_d = 0.54,                  # drag coefficient of a basketball\n",
    "                x_dist = 4.9 * m,            # horizontal distance of player to net\n",
    "                y_dist = 3.05 * m,           # distance of the rim from ground\n",
    "                v = 0 * m / s,               # velocity of the basketball\n",
    "                S = 0.47,                    # air resistance coefficient of spheres\n",
    "                g = 9.8 * m/s**2,            # gravity\n",
    "                angle = 52 * degree,         # launch angle of the basketball\n",
    "                mass = 0.625 * kg,           # mass of the basketball\n",
    "                diameter = 0.23 * m,         # diameter of the basketball\n",
    "                radius = 0.115 * m,          # radius of the basketball\n",
    "                t_end = 10 * s)"
   ]
  },
  {
   "cell_type": "code",
   "execution_count": 4,
   "metadata": {},
   "outputs": [],
   "source": [
    "def make_system(params, v_0, height):\n",
    "    \"\"\"Make a system object.\n",
    "    \n",
    "    params: \n",
    "    \n",
    "    returns: System object\n",
    "    \"\"\"\n",
    "    unpack(params)\n",
    "     # convert angle to degrees\n",
    "    theta = np.deg2rad(angle)\n",
    "    \n",
    "    # compute x and y components of velocity\n",
    "    vx, vy = pol2cart(theta, v_0)\n",
    "    \n",
    "    \n",
    "\n",
    "    init = State(x = x, y = height, vx = vx, vy = vy)\n",
    "\n",
    "    # compute area from diameter\n",
    "    area = np.pi * (diameter/2)**2\n",
    "    \n",
    "    return System(params, init=init, area = area)"
   ]
  },
  {
   "cell_type": "code",
   "execution_count": 5,
   "metadata": {},
   "outputs": [
    {
     "data": {
      "text/html": [
       "<div>\n",
       "<style scoped>\n",
       "    .dataframe tbody tr th:only-of-type {\n",
       "        vertical-align: middle;\n",
       "    }\n",
       "\n",
       "    .dataframe tbody tr th {\n",
       "        vertical-align: top;\n",
       "    }\n",
       "\n",
       "    .dataframe thead th {\n",
       "        text-align: right;\n",
       "    }\n",
       "</style>\n",
       "<table border=\"1\" class=\"dataframe\">\n",
       "  <thead>\n",
       "    <tr style=\"text-align: right;\">\n",
       "      <th></th>\n",
       "      <th>values</th>\n",
       "    </tr>\n",
       "  </thead>\n",
       "  <tbody>\n",
       "    <tr>\n",
       "      <th>x</th>\n",
       "      <td>0 meter</td>\n",
       "    </tr>\n",
       "    <tr>\n",
       "      <th>y</th>\n",
       "      <td>0 meter</td>\n",
       "    </tr>\n",
       "    <tr>\n",
       "      <th>omega</th>\n",
       "      <td>18.84955592153876 radian / second ** 2</td>\n",
       "    </tr>\n",
       "    <tr>\n",
       "      <th>rho</th>\n",
       "      <td>1.2 kilogram / meter ** 3</td>\n",
       "    </tr>\n",
       "    <tr>\n",
       "      <th>C_d</th>\n",
       "      <td>0.54</td>\n",
       "    </tr>\n",
       "    <tr>\n",
       "      <th>x_dist</th>\n",
       "      <td>4.9 meter</td>\n",
       "    </tr>\n",
       "    <tr>\n",
       "      <th>y_dist</th>\n",
       "      <td>3.05 meter</td>\n",
       "    </tr>\n",
       "    <tr>\n",
       "      <th>v</th>\n",
       "      <td>0.0 meter / second</td>\n",
       "    </tr>\n",
       "    <tr>\n",
       "      <th>S</th>\n",
       "      <td>0.47</td>\n",
       "    </tr>\n",
       "    <tr>\n",
       "      <th>g</th>\n",
       "      <td>9.8 meter / second ** 2</td>\n",
       "    </tr>\n",
       "    <tr>\n",
       "      <th>angle</th>\n",
       "      <td>52 degree</td>\n",
       "    </tr>\n",
       "    <tr>\n",
       "      <th>mass</th>\n",
       "      <td>0.625 kilogram</td>\n",
       "    </tr>\n",
       "    <tr>\n",
       "      <th>diameter</th>\n",
       "      <td>0.23 meter</td>\n",
       "    </tr>\n",
       "    <tr>\n",
       "      <th>radius</th>\n",
       "      <td>0.115 meter</td>\n",
       "    </tr>\n",
       "    <tr>\n",
       "      <th>t_end</th>\n",
       "      <td>10 second</td>\n",
       "    </tr>\n",
       "    <tr>\n",
       "      <th>init</th>\n",
       "      <td>x                0 meter\n",
       "y              1.8 me...</td>\n",
       "    </tr>\n",
       "    <tr>\n",
       "      <th>area</th>\n",
       "      <td>0.04154756284372502 meter ** 2</td>\n",
       "    </tr>\n",
       "  </tbody>\n",
       "</table>\n",
       "</div>"
      ],
      "text/plain": [
       "x                                                     0 meter\n",
       "y                                                     0 meter\n",
       "omega                  18.84955592153876 radian / second ** 2\n",
       "rho                                 1.2 kilogram / meter ** 3\n",
       "C_d                                                      0.54\n",
       "x_dist                                              4.9 meter\n",
       "y_dist                                             3.05 meter\n",
       "v                                          0.0 meter / second\n",
       "S                                                        0.47\n",
       "g                                     9.8 meter / second ** 2\n",
       "angle                                               52 degree\n",
       "mass                                           0.625 kilogram\n",
       "diameter                                           0.23 meter\n",
       "radius                                            0.115 meter\n",
       "t_end                                               10 second\n",
       "init        x                0 meter\n",
       "y              1.8 me...\n",
       "area                           0.04154756284372502 meter ** 2\n",
       "dtype: object"
      ]
     },
     "execution_count": 5,
     "metadata": {},
     "output_type": "execute_result"
    }
   ],
   "source": [
    "system = make_system(params, 0 * m / s, 1.8 * m)"
   ]
  },
  {
   "cell_type": "code",
   "execution_count": 6,
   "metadata": {},
   "outputs": [],
   "source": [
    "def drag_force(V, system):\n",
    "    \"\"\"Computes drag force in the opposite direction of `V`.\n",
    "    \n",
    "    V: velocity\n",
    "    system: System object with rho, C_d, area\n",
    "    \n",
    "    returns: Vector drag force\n",
    "    \"\"\"\n",
    "    unpack(system)\n",
    "    mag = -rho * V.mag**2 * C_d * area / 2\n",
    "    direction = V.hat()\n",
    "    f_drag = mag * direction\n",
    "    return f_drag"
   ]
  },
  {
   "cell_type": "code",
   "execution_count": 7,
   "metadata": {},
   "outputs": [],
   "source": [
    "def magnus_force(V, system):\n",
    "    \"\"\"Computes drag force in the opposite direction of `V`.\n",
    "    \n",
    "    V: velocity\n",
    "    system: System object with rho, C_d, area\n",
    "    \n",
    "    returns: Vector drag force\n",
    "    \"\"\"\n",
    "    unpack(system)\n",
    "    mag = 16/3 * np.pi**2 * radius**3 * rho\n",
    "    #direction = \n",
    "    f_drag = mag * direction\n",
    "    return f_drag"
   ]
  },
  {
   "cell_type": "code",
   "execution_count": 8,
   "metadata": {},
   "outputs": [],
   "source": [
    "def slope_func(state, t, system):\n",
    "    \"\"\"Computes derivatives of the state variables.\n",
    "    \n",
    "    state: State (x, y, x velocity, y velocity)\n",
    "    t: time\n",
    "    system: System object with g, rho, C_d, area, mass\n",
    "    \n",
    "    returns: sequence (vx, vy, ax, ay)\n",
    "    \"\"\"\n",
    "    x, y, vx, vy, = state\n",
    "    unpack(system)\n",
    "\n",
    "    V = Vector(vx, vy)    \n",
    "    a_drag = drag_force(V, system) / mass\n",
    "    a_grav = Vector(0, -g)\n",
    "    \n",
    "    a = a_grav + a_drag\n",
    "    \n",
    "    return vx, vy, a.x, a.y"
   ]
  },
  {
   "cell_type": "code",
   "execution_count": 9,
   "metadata": {},
   "outputs": [],
   "source": [
    "def event_func(state, t, system):\n",
    "    \"\"\"Stop when the y coordinate is 0.\n",
    "    \n",
    "    state: State object\n",
    "    t: time\n",
    "    system: System object\n",
    "    \n",
    "    returns: y coordinate\n",
    "    \"\"\"\n",
    "    x, y, vx, vy = state\n",
    "    return x - 4.9"
   ]
  },
  {
   "cell_type": "code",
   "execution_count": 10,
   "metadata": {},
   "outputs": [],
   "source": [
    "def height_func(v_0, height):\n",
    "    system = make_system(params, v_0 = v_0, height = height)\n",
    "    results, details = run_ode_solver(system, slope_func, events=event_func)\n",
    "    return Vector(get_last_value(results.x) * m, get_last_value(results.y) * m)"
   ]
  },
  {
   "cell_type": "code",
   "execution_count": 11,
   "metadata": {},
   "outputs": [
    {
     "data": {
      "text/html": [
       "[4.9        7.20318324] meter"
      ],
      "text/latex": [
       "$[4.9        7.20318324] meter$"
      ],
      "text/plain": [
       "<Quantity([4.9        7.20318324], 'meter')>"
      ]
     },
     "execution_count": 11,
     "metadata": {},
     "output_type": "execute_result"
    }
   ],
   "source": [
    "height_func(20 * m /s, 1.8*  m)"
   ]
  },
  {
   "cell_type": "code",
   "execution_count": 12,
   "metadata": {
    "scrolled": false
   },
   "outputs": [
    {
     "name": "stdout",
     "output_type": "stream",
     "text": [
      "[1.6        1.67777778 1.75555556 1.83333333 1.91111111 1.98888889\n",
      " 2.06666667 2.14444444 2.22222222 2.3       ]\n",
      "1.6 8.363636363636363 [4.9        2.99111546] meter\n",
      "1.6 8.424242424242424 [4.9        3.06025541] meter\n",
      "1.6 8.484848484848484 [4.9        3.12792504] meter\n",
      "1.6777777777777778 8.303030303030303 [4.9        2.99822612] meter\n",
      "1.6777777777777778 8.363636363636363 [4.9        3.06888247] meter\n",
      "1.6777777777777778 8.424242424242424 [4.9        3.13802498] meter\n",
      "1.7555555555555555 8.242424242424242 [4.9        3.00377321] meter\n",
      "1.7555555555555555 8.303030303030303 [4.9        3.07599114] meter\n",
      "1.7555555555555555 8.363636363636363 [4.9        3.14665009] meter\n",
      "1.8333333333333333 8.181818181818182 [4.9       3.0077098] meter\n",
      "1.8333333333333333 8.242424242424242 [4.9        3.08153621] meter\n",
      "1.8333333333333333 8.303030303030303 [4.9        3.15375677] meter\n",
      "1.911111111111111 8.121212121212121 [4.9        3.00998721] meter\n",
      "1.911111111111111 8.181818181818182 [4.9        3.08547077] meter\n",
      "1.911111111111111 8.242424242424242 [4.9        3.15929982] meter\n",
      "1.988888888888889 8.06060606060606 [4.9        3.01055491] meter\n",
      "1.988888888888889 8.121212121212121 [4.9        3.08774617] meter\n",
      "1.988888888888889 8.181818181818182 [4.9        3.16323236] meter\n",
      "2.0666666666666664 8.0 [4.9       3.0093604] meter\n",
      "2.0666666666666664 8.06060606060606 [4.9        3.08831187] meter\n",
      "2.1444444444444444 7.9393939393939394 [4.9        3.00634912] meter\n",
      "2.1444444444444444 8.0 [4.9        3.08711541] meter\n",
      "2.2222222222222223 7.878787878787879 [4.9        3.00146434] meter\n",
      "2.2222222222222223 7.9393939393939394 [4.9        3.08410226] meter\n",
      "2.2222222222222223 8.0 [4.9        3.16487105] meter\n",
      "2.3 7.818181818181818 [4.9        2.99464703] meter\n",
      "2.3 7.878787878787879 [4.9        3.07921571] meter\n",
      "2.3 7.9393939393939394 [4.9        3.16185603] meter\n"
     ]
    },
    {
     "data": {
      "text/html": [
       "<div>\n",
       "<style scoped>\n",
       "    .dataframe tbody tr th:only-of-type {\n",
       "        vertical-align: middle;\n",
       "    }\n",
       "\n",
       "    .dataframe tbody tr th {\n",
       "        vertical-align: top;\n",
       "    }\n",
       "\n",
       "    .dataframe thead th {\n",
       "        text-align: right;\n",
       "    }\n",
       "</style>\n",
       "<table border=\"1\" class=\"dataframe\">\n",
       "  <thead>\n",
       "    <tr style=\"text-align: right;\">\n",
       "      <th></th>\n",
       "      <th>values</th>\n",
       "    </tr>\n",
       "  </thead>\n",
       "  <tbody>\n",
       "    <tr>\n",
       "      <th>1.600000</th>\n",
       "      <td>8.363636</td>\n",
       "    </tr>\n",
       "    <tr>\n",
       "      <th>1.677778</th>\n",
       "      <td>8.303030</td>\n",
       "    </tr>\n",
       "    <tr>\n",
       "      <th>1.755556</th>\n",
       "      <td>8.242424</td>\n",
       "    </tr>\n",
       "    <tr>\n",
       "      <th>1.833333</th>\n",
       "      <td>8.181818</td>\n",
       "    </tr>\n",
       "    <tr>\n",
       "      <th>1.911111</th>\n",
       "      <td>8.121212</td>\n",
       "    </tr>\n",
       "    <tr>\n",
       "      <th>1.988889</th>\n",
       "      <td>8.060606</td>\n",
       "    </tr>\n",
       "    <tr>\n",
       "      <th>2.066667</th>\n",
       "      <td>8.000000</td>\n",
       "    </tr>\n",
       "    <tr>\n",
       "      <th>2.144444</th>\n",
       "      <td>7.939394</td>\n",
       "    </tr>\n",
       "    <tr>\n",
       "      <th>2.222222</th>\n",
       "      <td>7.878788</td>\n",
       "    </tr>\n",
       "    <tr>\n",
       "      <th>2.300000</th>\n",
       "      <td>7.818182</td>\n",
       "    </tr>\n",
       "  </tbody>\n",
       "</table>\n",
       "</div>"
      ],
      "text/plain": [
       "1.600000    8.363636\n",
       "1.677778    8.303030\n",
       "1.755556    8.242424\n",
       "1.833333    8.181818\n",
       "1.911111    8.121212\n",
       "1.988889    8.060606\n",
       "2.066667    8.000000\n",
       "2.144444    7.939394\n",
       "2.222222    7.878788\n",
       "2.300000    7.818182\n",
       "dtype: float64"
      ]
     },
     "execution_count": 12,
     "metadata": {},
     "output_type": "execute_result"
    }
   ],
   "source": [
    "velocities = linspace(6, 12, 100)\n",
    "heights = linspace(1.6, 2.3, 10)\n",
    "sweep_h = SweepSeries()\n",
    "\n",
    "print(heights)\n",
    "for h in heights:\n",
    "    sweep_v = SweepSeries()\n",
    "    for vel in velocities:\n",
    "        vector = height_func(vel * m / s, h * m)\n",
    "        if(vector.y.mag < 3.165 * m and vector.y.mag > 2.935 * m):\n",
    "            print(h, vel, vector)\n",
    "            sweep_v[vel] = vector\n",
    "    sweep_h[h] = sweep_v.index[0]\n",
    "sweep_h"
   ]
  },
  {
   "cell_type": "code",
   "execution_count": 13,
   "metadata": {},
   "outputs": [
    {
     "data": {
      "text/plain": [
       "Float64Index([               1.6, 1.6777777777777778, 1.7555555555555555,\n",
       "              1.8333333333333333,  1.911111111111111,  1.988888888888889,\n",
       "              2.0666666666666664, 2.1444444444444444, 2.2222222222222223,\n",
       "                             2.3],\n",
       "             dtype='float64')"
      ]
     },
     "execution_count": 13,
     "metadata": {},
     "output_type": "execute_result"
    }
   ],
   "source": [
    "sweep_h.index"
   ]
  },
  {
   "cell_type": "code",
   "execution_count": 14,
   "metadata": {},
   "outputs": [
    {
     "data": {
      "text/html": [
       "<div>\n",
       "<style scoped>\n",
       "    .dataframe tbody tr th:only-of-type {\n",
       "        vertical-align: middle;\n",
       "    }\n",
       "\n",
       "    .dataframe tbody tr th {\n",
       "        vertical-align: top;\n",
       "    }\n",
       "\n",
       "    .dataframe thead th {\n",
       "        text-align: right;\n",
       "    }\n",
       "</style>\n",
       "<table border=\"1\" class=\"dataframe\">\n",
       "  <thead>\n",
       "    <tr style=\"text-align: right;\">\n",
       "      <th></th>\n",
       "      <th>values</th>\n",
       "    </tr>\n",
       "  </thead>\n",
       "  <tbody>\n",
       "    <tr>\n",
       "      <th>1.600000</th>\n",
       "      <td>8.363636</td>\n",
       "    </tr>\n",
       "    <tr>\n",
       "      <th>1.677778</th>\n",
       "      <td>8.303030</td>\n",
       "    </tr>\n",
       "    <tr>\n",
       "      <th>1.755556</th>\n",
       "      <td>8.242424</td>\n",
       "    </tr>\n",
       "    <tr>\n",
       "      <th>1.833333</th>\n",
       "      <td>8.181818</td>\n",
       "    </tr>\n",
       "    <tr>\n",
       "      <th>1.911111</th>\n",
       "      <td>8.121212</td>\n",
       "    </tr>\n",
       "    <tr>\n",
       "      <th>1.988889</th>\n",
       "      <td>8.060606</td>\n",
       "    </tr>\n",
       "    <tr>\n",
       "      <th>2.066667</th>\n",
       "      <td>8.000000</td>\n",
       "    </tr>\n",
       "    <tr>\n",
       "      <th>2.144444</th>\n",
       "      <td>7.939394</td>\n",
       "    </tr>\n",
       "    <tr>\n",
       "      <th>2.222222</th>\n",
       "      <td>7.878788</td>\n",
       "    </tr>\n",
       "    <tr>\n",
       "      <th>2.300000</th>\n",
       "      <td>7.818182</td>\n",
       "    </tr>\n",
       "  </tbody>\n",
       "</table>\n",
       "</div>"
      ],
      "text/plain": [
       "1.600000    8.363636\n",
       "1.677778    8.303030\n",
       "1.755556    8.242424\n",
       "1.833333    8.181818\n",
       "1.911111    8.121212\n",
       "1.988889    8.060606\n",
       "2.066667    8.000000\n",
       "2.144444    7.939394\n",
       "2.222222    7.878788\n",
       "2.300000    7.818182\n",
       "dtype: float64"
      ]
     },
     "execution_count": 14,
     "metadata": {},
     "output_type": "execute_result"
    }
   ],
   "source": [
    "sweep_h"
   ]
  },
  {
   "cell_type": "code",
   "execution_count": 15,
   "metadata": {},
   "outputs": [
    {
     "data": {
      "image/png": "[encoded data removed]",
      "text/plain": [
       "<Figure size 432x288 with 1 Axes>"
      ]
     },
     "metadata": {
      "needs_background": "light"
     },
     "output_type": "display_data"
    }
   ],
   "source": [
    "plot(sweep_h, color='C2')\n",
    "decorate(xlabel='Player Height (m)',\n",
    "         ylabel='Initial Velocity (m/s)',\n",
    "         title='Initial Velocity Required to Make a Free Throw as a Function of Player Height',\n",
    "         legend=False)"
   ]
  }
 ],
 "metadata": {
  "kernelspec": {
   "display_name": "Python 3",
   "language": "python",
   "name": "python3"
  },
  "language_info": {
   "codemirror_mode": {
    "name": "ipython",
    "version": 3
   },
   "file_extension": ".py",
   "mimetype": "text/x-python",
   "name": "python",
   "nbconvert_exporter": "python",
   "pygments_lexer": "ipython3",
   "version": "3.6.5"
  }
 },
 "nbformat": 4,
 "nbformat_minor": 2
}
